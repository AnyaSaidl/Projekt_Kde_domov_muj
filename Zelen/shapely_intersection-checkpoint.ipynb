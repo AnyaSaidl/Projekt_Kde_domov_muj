{
 "cells": [
  {
   "cell_type": "code",
   "execution_count": 1,
   "metadata": {},
   "outputs": [],
   "source": [
    "import json\n",
    "from shapely.geometry import shape, GeometryCollection, Polygon, MultiPolygon\n",
    "\n",
    "def get_polygon_and_multipolygon_shapely_features_from_file(filename):\n",
    "    with open(filename, encoding='utf-8') as f:\n",
    "        features = json.load(f)[\"features\"]\n",
    "    \n",
    "    # NOTE: buffer(0) is a trick for fixing scenarios where polygons have overlapping coordinates \n",
    "    zelen = GeometryCollection([shape(feature[\"geometry\"]).buffer(0) for feature in features])\n",
    "    \n",
    "    # Filtering to keep only Polygons and multipolygons\n",
    "    return [\n",
    "        geometry\n",
    "        for geometry in zelen\n",
    "        if type(geometry) == MultiPolygon or type(geometry) == Polygon\n",
    "    ]"
   ]
  },
  {
   "cell_type": "code",
   "execution_count": 2,
   "metadata": {},
   "outputs": [
    {
     "name": "stdout",
     "output_type": "stream",
     "text": [
      "Loaded 173 and 2078 geometries respectively\n"
     ]
    }
   ],
   "source": [
    "file1 = \"katastralni_uzemi.geojson\"\n",
    "file2 = \"zelen.geojson\"\n",
    "geometries1 = get_polygon_and_multipolygon_shapely_features_from_file(file1)\n",
    "geometries2 = get_polygon_and_multipolygon_shapely_features_from_file(file2)\n",
    "\n",
    "print(f\"Loaded {len(geometries1)} and {len(geometries2)} geometries respectively\")"
   ]
  },
  {
   "cell_type": "code",
   "execution_count": 3,
   "metadata": {},
   "outputs": [
    {
     "name": "stdout",
     "output_type": "stream",
     "text": [
      "Found 173 intersections\n"
     ]
    }
   ],
   "source": [
    "intersections_per_geometries1 = []\n",
    "for geometry1 in geometries1:\n",
    "    intersections = []\n",
    "    for geometry2 in geometries2:\n",
    "        if geometry1.intersects(geometry2):\n",
    "            intersection = geometry1.intersection(geometry2)\n",
    "            if type(intersection) == MultiPolygon or type(intersection) == Polygon:\n",
    "                intersections.append(intersection)\n",
    "    intersections_per_geometries1.append(intersections)\n",
    "\n",
    "print(f\"Found {len(intersections_per_geometries1)} intersections\")\n",
    "        "
   ]
  },
  {
   "cell_type": "code",
   "execution_count": 9,
   "metadata": {},
   "outputs": [
    {
     "data": {
      "image/png": "[encoded data removed]",
      "text/plain": [
       "<Figure size 432x288 with 1 Axes>"
      ]
     },
     "metadata": {
      "needs_background": "light"
     },
     "output_type": "display_data"
    }
   ],
   "source": [
    "import matplotlib.pyplot as plt\n",
    "\n",
    "index = 33\n",
    "plt.plot(*geometries1[index].exterior.xy)\n",
    "\n",
    "for polygon_or_multipolygon in intersections_per_geometries1[index]:\n",
    "    if type(polygon_or_multipolygon) == Polygon:\n",
    "        plt.plot(*polygon_or_multipolygon.exterior.xy)\n",
    "    else:\n",
    "        for polygon in polygon_or_multipolygon:\n",
    "             plt.plot(*polygon.exterior.xy)"
   ]
  },
  {
   "cell_type": "code",
   "execution_count": 18,
   "metadata": {},
   "outputs": [
    {
     "name": "stdout",
     "output_type": "stream",
     "text": [
      "[8.994851957882513, 12.99288849533498, 1.0512158700992245, 11.65931316784874, 17.955900692198153, 3.8610884811542854, 52.11780675729172, 6.041713439514278, 57.23981863784675, 4.43705276275337, 11.864930704214702, 0.3258050802142569, 5.216807101752459, 40.50306810694083, 15.964101489164795, 53.26936616415827, 13.16159574050429, 7.45129974548326, 23.648481732348472, 32.48853546593391, 5.745474192362907, 18.439703938270952, 20.624722147956494, 20.630151348098217, 32.395787378996125, 3.6292995702424538, 20.852064400267047, 24.799499936529752, 6.331334165175187, 27.903810875886325, 14.637164959977023, 12.579535022881789, 5.495123410904069, 0.0, 27.424488682574083, 10.540740671536565, 25.97590285116188, 1.9143015698517993, 9.05274112199124, 11.526348675845862, 18.827083481998827, 2.5889805297251285, 7.117673208533858, 7.375155636345811, 6.010191100122655, 7.238362365713821, 10.578446050979593, 16.971896176241287, 33.54105871881139, 4.584500765397555, 15.91761156607575, 25.64563120478472, 27.45932545667964, 12.839386627046864, 37.409196758807575, 35.58935326367462, 13.282537498352651, 10.321908533761937, 16.948851498626254, 19.35062846413807, 3.949532461373728, 18.166531152759372, 24.49576455068536, 35.50545385562931, 28.721621522927393, 7.76127369567222, 8.15469457974869, 6.35999182047029, 6.1399006435063335, 2.1390846377142605, 40.72639224744704, 18.09810243906586, 11.712923456869923, 5.963190156307146, 34.00208465485143, 3.158357887316575, 2.49247280861774, 7.809502461302803, 1.7108191324988542, 30.200531068921244, 4.13101432636036, 2.9311561731062517, 3.98878006952375, 10.013284759243462, 5.7527106448716365, 21.134392876034816, 4.752455739186237, 26.921993005954388, 12.079684790713568, 27.851250098827634, 36.10630359891343, 12.403927257049336, 21.37219604095613, 23.718619845462737, 0.46496340750036685, 3.6572454466858284, 2.399639222039821, 0.2579214606227694, 8.085724297985818, 7.410754143090892, 5.12677760403203, 6.209665623051351, 6.585094588134899, 47.71058264003412, 9.36716583461842, 14.366359479418762, 6.866483514620151, 20.481842842534565, 0.9304483840035006, 3.198720842597126, 11.65957180124667, 13.988388825941925, 0, 0, 0, 0, 0, 0, 0, 0, 0, 0, 0, 0, 0, 0, 0, 0, 0, 0, 0, 0, 0, 0, 0, 0, 0, 0, 0, 0, 0, 0, 0, 0, 0, 0, 0, 0, 0, 0, 0, 0, 0, 0, 0, 0, 0, 0, 0, 0, 0, 0, 0, 0, 0, 0, 0, 0, 0, 0, 0, 0, 0]\n"
     ]
    }
   ],
   "source": [
    "import geopandas as gpd\n",
    "\n",
    "areas = []\n",
    "non_zero = 0\n",
    "for i, geometries in enumerate(intersections_per_geometries1):\n",
    "    enclosing_area = geometries1[i].area\n",
    "    if enclosing_area == 0:\n",
    "        areas.append(0)\n",
    "    else:  \n",
    "        non_zero += 1\n",
    "#         print(enclosing_area)\n",
    "        areas.append(sum(geom.area for geom in geometries)/geometries1[i].area * 100)\n",
    "print(areas)\n",
    "#     gdf = gpd.GeoDataFrame({'geometry': [geometries1[i]] + geometries})\n",
    "#     gdf.to_file(f\"intersection_{i}.geojson\", driver"
   ]
  },
  {
   "cell_type": "code",
   "execution_count": 49,
   "metadata": {},
   "outputs": [
    {
     "name": "stdout",
     "output_type": "stream",
     "text": [
      "                                            properties\n",
      "0    {'@id': 'relation/426259', 'admin_level': '10'...\n",
      "1    {'@id': 'relation/426322', 'admin_level': '10'...\n",
      "2    {'@id': 'relation/426324', 'admin_level': '10'...\n",
      "3    {'@id': 'relation/426327', 'admin_level': '10'...\n",
      "4    {'@id': 'relation/426433', 'admin_level': '10'...\n",
      "..                                                 ...\n",
      "168  {'@id': 'node/1601837894', '@relations': [{'ro...\n",
      "169  {'@id': 'node/1601837902', '@relations': [{'ro...\n",
      "170  {'@id': 'node/1601837910', '@relations': [{'ro...\n",
      "171  {'@id': 'node/1601837918', '@relations': [{'ro...\n",
      "172  {'@id': 'node/1601837927', '@relations': [{'ro...\n",
      "\n",
      "[173 rows x 1 columns]\n"
     ]
    }
   ],
   "source": [
    "import json\n",
    "import pandas\n",
    "with open('katastralni_uzemi.geojson', encoding='utf-8') as f:\n",
    "    features = json.load(f)[\"features\"]\n",
    "df = pandas.DataFrame(features, columns = ['properties'])\n",
    "print(df)"
   ]
  },
  {
   "cell_type": "code",
   "execution_count": 55,
   "metadata": {},
   "outputs": [
    {
     "ename": "AttributeError",
     "evalue": "'DataFrame' object has no attribute 'str'",
     "output_type": "error",
     "traceback": [
      "\u001b[1;31m---------------------------------------------------------------------------\u001b[0m",
      "\u001b[1;31mAttributeError\u001b[0m                            Traceback (most recent call last)",
      "\u001b[1;32m<ipython-input-55-a956079d8b9d>\u001b[0m in \u001b[0;36m<module>\u001b[1;34m\u001b[0m\n\u001b[1;32m----> 1\u001b[1;33m \u001b[0mout\u001b[0m \u001b[1;33m=\u001b[0m \u001b[0mdf\u001b[0m\u001b[1;33m.\u001b[0m\u001b[0mstr\u001b[0m\u001b[1;33m.\u001b[0m\u001b[0msplit\u001b[0m\u001b[1;33m(\u001b[0m\u001b[1;34m\",\"\u001b[0m\u001b[1;33m,\u001b[0m \u001b[0mn\u001b[0m \u001b[1;33m=\u001b[0m \u001b[1;36m8\u001b[0m\u001b[1;33m,\u001b[0m \u001b[0mexpand\u001b[0m \u001b[1;33m=\u001b[0m \u001b[1;32mTrue\u001b[0m\u001b[1;33m)\u001b[0m\u001b[1;33m\u001b[0m\u001b[1;33m\u001b[0m\u001b[0m\n\u001b[0m\u001b[0;32m      2\u001b[0m \u001b[0mprint\u001b[0m\u001b[1;33m(\u001b[0m\u001b[0mout\u001b[0m\u001b[1;33m)\u001b[0m\u001b[1;33m\u001b[0m\u001b[1;33m\u001b[0m\u001b[0m\n",
      "\u001b[1;32mc:\\users\\hanka\\appdata\\local\\programs\\python\\python38-32\\lib\\site-packages\\pandas\\core\\generic.py\u001b[0m in \u001b[0;36m__getattr__\u001b[1;34m(self, name)\u001b[0m\n\u001b[0;32m   5137\u001b[0m             \u001b[1;32mif\u001b[0m \u001b[0mself\u001b[0m\u001b[1;33m.\u001b[0m\u001b[0m_info_axis\u001b[0m\u001b[1;33m.\u001b[0m\u001b[0m_can_hold_identifiers_and_holds_name\u001b[0m\u001b[1;33m(\u001b[0m\u001b[0mname\u001b[0m\u001b[1;33m)\u001b[0m\u001b[1;33m:\u001b[0m\u001b[1;33m\u001b[0m\u001b[1;33m\u001b[0m\u001b[0m\n\u001b[0;32m   5138\u001b[0m                 \u001b[1;32mreturn\u001b[0m \u001b[0mself\u001b[0m\u001b[1;33m[\u001b[0m\u001b[0mname\u001b[0m\u001b[1;33m]\u001b[0m\u001b[1;33m\u001b[0m\u001b[1;33m\u001b[0m\u001b[0m\n\u001b[1;32m-> 5139\u001b[1;33m             \u001b[1;32mreturn\u001b[0m \u001b[0mobject\u001b[0m\u001b[1;33m.\u001b[0m\u001b[0m__getattribute__\u001b[0m\u001b[1;33m(\u001b[0m\u001b[0mself\u001b[0m\u001b[1;33m,\u001b[0m \u001b[0mname\u001b[0m\u001b[1;33m)\u001b[0m\u001b[1;33m\u001b[0m\u001b[1;33m\u001b[0m\u001b[0m\n\u001b[0m\u001b[0;32m   5140\u001b[0m \u001b[1;33m\u001b[0m\u001b[0m\n\u001b[0;32m   5141\u001b[0m     \u001b[1;32mdef\u001b[0m \u001b[0m__setattr__\u001b[0m\u001b[1;33m(\u001b[0m\u001b[0mself\u001b[0m\u001b[1;33m,\u001b[0m \u001b[0mname\u001b[0m\u001b[1;33m:\u001b[0m \u001b[0mstr\u001b[0m\u001b[1;33m,\u001b[0m \u001b[0mvalue\u001b[0m\u001b[1;33m)\u001b[0m \u001b[1;33m->\u001b[0m \u001b[1;32mNone\u001b[0m\u001b[1;33m:\u001b[0m\u001b[1;33m\u001b[0m\u001b[1;33m\u001b[0m\u001b[0m\n",
      "\u001b[1;31mAttributeError\u001b[0m: 'DataFrame' object has no attribute 'str'"
     ]
    }
   ],
   "source": [
    "df.to_csv('nazvy.csv')"
   ]
  },
  {
   "cell_type": "code",
   "execution_count": null,
   "metadata": {},
   "outputs": [],
   "source": []
  }
 ],
 "metadata": {
  "kernelspec": {
   "display_name": "Python 3",
   "language": "python",
   "name": "python3"
  },
  "language_info": {
   "codemirror_mode": {
    "name": "ipython",
    "version": 3
   },
   "file_extension": ".py",
   "mimetype": "text/x-python",
   "name": "python",
   "nbconvert_exporter": "python",
   "pygments_lexer": "ipython3",
   "version": "3.8.3"
  }
 },
 "nbformat": 4,
 "nbformat_minor": 4
}
